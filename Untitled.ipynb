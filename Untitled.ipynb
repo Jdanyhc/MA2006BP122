{
 "cells": [
  {
   "cell_type": "code",
   "execution_count": 70,
   "id": "f9c586ed-53ab-4fc4-b7a1-5b84f138bf19",
   "metadata": {},
   "outputs": [
    {
     "data": {
      "application/vnd.jupyter.widget-view+json": {
       "model_id": "53ea47701bf0474ab9b43ec31dd0bc0c",
       "version_major": 2,
       "version_minor": 0
      },
      "text/plain": [
       "Interactive function <function g at 0x7fc6830e25f0> with 2 widgets\n",
       "  a: TransformFloatSlider(value=1.0, descri…"
      ]
     },
     "metadata": {},
     "output_type": "display_data"
    }
   ],
   "source": [
    "@interact \n",
    "def g(a=slider(-1, 1, .01, default = 1),\n",
    "     b=slider(-1, 1, .01, default =1)):\n",
    "    var('x,y')\n",
    "    g_plot=implicit_plot(y**2==x**3 + x*a + b, (x,-10,10),(y,-10,10))\n",
    "    \n",
    "    show(g_plot)"
   ]
  },
  {
   "cell_type": "code",
   "execution_count": null,
   "id": "6328e4d4-9b7c-4df0-928a-f99f27d01385",
   "metadata": {},
   "outputs": [],
   "source": []
  }
 ],
 "metadata": {
  "kernelspec": {
   "display_name": "SageMath 9.4",
   "language": "sage",
   "name": "sagemath"
  },
  "language_info": {
   "codemirror_mode": {
    "name": "ipython",
    "version": 3
   },
   "file_extension": ".py",
   "mimetype": "text/x-python",
   "name": "python",
   "nbconvert_exporter": "python",
   "pygments_lexer": "ipython3",
   "version": "3.7.12"
  }
 },
 "nbformat": 4,
 "nbformat_minor": 5
}
